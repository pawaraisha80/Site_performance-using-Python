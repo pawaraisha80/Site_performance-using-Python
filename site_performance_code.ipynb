{
  "nbformat": 4,
  "nbformat_minor": 0,
  "metadata": {
    "colab": {
      "provenance": [],
      "authorship_tag": "ABX9TyMl2xFCRiRpxRWRfcv0eNVA",
      "include_colab_link": true
    },
    "kernelspec": {
      "name": "python3",
      "display_name": "Python 3"
    },
    "language_info": {
      "name": "python"
    }
  },
  "cells": [
    {
      "cell_type": "markdown",
      "metadata": {
        "id": "view-in-github",
        "colab_type": "text"
      },
      "source": [
        "<a href=\"https://colab.research.google.com/github/pawaraisha80/Site_performance-using-Python/blob/main/site_performance_code.ipynb\" target=\"_parent\"><img src=\"https://colab.research.google.com/assets/colab-badge.svg\" alt=\"Open In Colab\"/></a>"
      ]
    },
    {
      "cell_type": "code",
      "source": [
        "from google.colab import drive\n",
        "drive.mount('/content/drive')\n",
        "%cd drive/MyDrive/python\n",
        "%ls"
      ],
      "metadata": {
        "id": "7pk7l3-Yi6or"
      },
      "execution_count": null,
      "outputs": []
    },
    {
      "cell_type": "code",
      "execution_count": null,
      "metadata": {
        "id": "TIMArKKmifO9"
      },
      "outputs": [],
      "source": [
        "import numpy as np\n",
        "import pandas as pd\n",
        "import matplotlib.pyplot as plt\n",
        "from sklearn.cluster import KMeans\n",
        "from sklearn.decomposition import PCA"
      ]
    },
    {
      "cell_type": "code",
      "source": [
        "df = pd.read_csv(\"Site Performance Data.csv\")\n",
        "\n",
        "print(df)"
      ],
      "metadata": {
        "colab": {
          "base_uri": "https://localhost:8080/"
        },
        "id": "1FvgK-5LizyZ",
        "outputId": "508d2976-d3eb-4e46-feac-b5d19bb40a61"
      },
      "execution_count": null,
      "outputs": [
        {
          "output_type": "stream",
          "name": "stdout",
          "text": [
            "   Sr. No.    Role Location Internet  Environment  Exact Time(Sec)\n",
            "0        1   Admin     Pune      WLAN       Humid              2.0\n",
            "1        2  Author    Karad      WiFi       Sunny              6.0\n",
            "2        3    User   Mumbai      WiFi       Rainy              5.0\n",
            "3        4  Author   Sangli      WLAN      Cloudy              1.0\n",
            "4        5   Admin    Karad      WLAN      Cloudy              0.5\n",
            "5        6    User     Pune      WiFi       Sunny              6.0\n",
            "6        7   Admin   Mumbai      WLAN       Humid              7.0\n",
            "7        8    User    Karad      WiFi       Rainy              4.0\n",
            "8        9  Author     Pune      WLAN       Humid              5.0\n",
            "9       10   Admin    Karad      WiFi       Sunny              2.0\n"
          ]
        }
      ]
    },
    {
      "cell_type": "code",
      "source": [
        "d = {'Pune': 0, 'Karad': 1, 'Sangli': 2, 'Mumbai': 3}\n",
        "df['Location'] = df['Location'].map(d)\n",
        "d = {'Admin': 0, 'Author': 1, 'User': 2}\n",
        "df['Role'] = df['Role'].map(d)\n",
        "d = {'WLAN': 0, 'WiFi': 1}\n",
        "df['Internet '] = df['Internet '].map(d)\n",
        "d = {'Humid': 0, 'Sunny': 1, 'Rainy': 2, 'Cloudy': 3}\n",
        "df['Environment'] = df['Environment'].map(d)\n",
        "print(df)"
      ],
      "metadata": {
        "colab": {
          "base_uri": "https://localhost:8080/"
        },
        "id": "Csta0mGzlQS2",
        "outputId": "5e1ad4fc-1869-4ecd-af1c-66375c547380"
      },
      "execution_count": null,
      "outputs": [
        {
          "output_type": "stream",
          "name": "stdout",
          "text": [
            "   Sr. No.  Role  Location  Internet   Environment  Exact Time(Sec)\n",
            "0        1     0         0          0            0              2.0\n",
            "1        2     1         1          1            1              6.0\n",
            "2        3     2         3          1            2              5.0\n",
            "3        4     1         2          0            3              1.0\n",
            "4        5     0         1          0            3              0.5\n",
            "5        6     2         0          1            1              6.0\n",
            "6        7     0         3          0            0              7.0\n",
            "7        8     2         1          1            2              4.0\n",
            "8        9     1         0          0            0              5.0\n",
            "9       10     0         1          1            1              2.0\n"
          ]
        }
      ]
    },
    {
      "cell_type": "code",
      "source": [
        "kmeans = KMeans(n_clusters=3)\n",
        "kmeans.fit(df)\n",
        "print(kmeans.cluster_centers_)"
      ],
      "metadata": {
        "colab": {
          "base_uri": "https://localhost:8080/"
        },
        "id": "ae5FlJoTlcVt",
        "outputId": "04ab6b9a-a6ae-4ef7-e90e-372514740c07"
      },
      "execution_count": null,
      "outputs": [
        {
          "output_type": "stream",
          "name": "stdout",
          "text": [
            "[[8.         1.         1.         0.6        0.8        4.8       ]\n",
            " [4.5        0.5        1.5        0.         3.         0.75      ]\n",
            " [2.         1.         1.33333333 0.66666667 1.         4.33333333]]\n"
          ]
        }
      ]
    },
    {
      "cell_type": "code",
      "source": [
        "my_list = df.values.tolist()\n",
        "\n",
        "print(my_list)"
      ],
      "metadata": {
        "colab": {
          "base_uri": "https://localhost:8080/"
        },
        "id": "uo4ew-mIYRBd",
        "outputId": "a491d235-173f-49b3-ae39-7699d73e2742"
      },
      "execution_count": null,
      "outputs": [
        {
          "output_type": "stream",
          "name": "stdout",
          "text": [
            "[[1.0, 0.0, 0.0, 0.0, 0.0, 2.0], [2.0, 1.0, 1.0, 1.0, 1.0, 6.0], [3.0, 2.0, 3.0, 1.0, 2.0, 5.0], [4.0, 1.0, 2.0, 0.0, 3.0, 1.0], [5.0, 0.0, 1.0, 0.0, 3.0, 0.5], [6.0, 2.0, 0.0, 1.0, 1.0, 6.0], [7.0, 0.0, 3.0, 0.0, 0.0, 7.0], [8.0, 2.0, 1.0, 1.0, 2.0, 4.0], [9.0, 1.0, 0.0, 0.0, 0.0, 5.0], [10.0, 0.0, 1.0, 1.0, 1.0, 2.0]]\n"
          ]
        }
      ]
    },
    {
      "cell_type": "code",
      "source": [
        "x = [i[1] for i in my_list]\n",
        "y = [i[2] for i in my_list]\n",
        "print(x)\n",
        "print(y)"
      ],
      "metadata": {
        "colab": {
          "base_uri": "https://localhost:8080/"
        },
        "id": "bidCsPtcYVQc",
        "outputId": "10ed3e0e-c7da-4c18-adb7-d8ce5d675a90"
      },
      "execution_count": null,
      "outputs": [
        {
          "output_type": "stream",
          "name": "stdout",
          "text": [
            "[0.0, 1.0, 2.0, 1.0, 0.0, 2.0, 0.0, 2.0, 1.0, 0.0]\n",
            "[0.0, 1.0, 3.0, 2.0, 1.0, 0.0, 3.0, 1.0, 0.0, 1.0]\n"
          ]
        }
      ]
    },
    {
      "cell_type": "code",
      "source": [
        "from sklearn.manifold import TSNE\n",
        "my_tsne = TSNE(n_components=2, learning_rate='auto',\n",
        "                  init='random', perplexity=3)\n",
        "df_embedded = my_tsne.fit_transform(df)\n"
      ],
      "metadata": {
        "id": "vGZC9JkrXhhu"
      },
      "execution_count": null,
      "outputs": []
    },
    {
      "cell_type": "code",
      "source": [
        "df_embedded"
      ],
      "metadata": {
        "colab": {
          "base_uri": "https://localhost:8080/"
        },
        "id": "cu9KJhbUhjat",
        "outputId": "96e603bf-f912-446d-bd2e-5a81590ecdb4"
      },
      "execution_count": null,
      "outputs": [
        {
          "output_type": "execute_result",
          "data": {
            "text/plain": [
              "array([[-16.417198 , -77.05618  ],\n",
              "       [-43.07392  , -43.674217 ],\n",
              "       [-47.544712 , -16.24479  ],\n",
              "       [ 38.00092  , -67.22656  ],\n",
              "       [ 63.834156 , -60.54713  ],\n",
              "       [-20.711498 ,  95.0832   ],\n",
              "       [-61.444073 ,  99.59412  ],\n",
              "       [ -1.0294263, 123.80744  ],\n",
              "       [ 22.481825 , 105.22349  ],\n",
              "       [ 37.15994  , 144.75453  ]], dtype=float32)"
            ]
          },
          "metadata": {},
          "execution_count": 50
        }
      ]
    },
    {
      "cell_type": "code",
      "source": [
        "plt.scatter(x, y, c=kmeans.labels_)\n",
        "plt.show()"
      ],
      "metadata": {
        "colab": {
          "base_uri": "https://localhost:8080/",
          "height": 265
        },
        "id": "316Rp3a2X-6H",
        "outputId": "3f23efe7-6b12-4897-fba9-ee774af21b91"
      },
      "execution_count": null,
      "outputs": [
        {
          "output_type": "display_data",
          "data": {
            "text/plain": [
              "<Figure size 432x288 with 1 Axes>"
            ],
            "image/png": "[encoded data removed]"
          },
          "metadata": {
            "needs_background": "light"
          }
        }
      ]
    },
    {
      "cell_type": "code",
      "source": [
        "plt.scatter(df_embedded[:,0], df_embedded[:,1], c=kmeans.labels_)\n",
        "plt.show()"
      ],
      "metadata": {
        "colab": {
          "base_uri": "https://localhost:8080/",
          "height": 265
        },
        "id": "hwfpcJ2FYdVL",
        "outputId": "d82dab0b-aff8-4e47-bd2b-80a95807b5a2"
      },
      "execution_count": null,
      "outputs": [
        {
          "output_type": "display_data",
          "data": {
            "text/plain": [
              "<Figure size 432x288 with 1 Axes>"
            ],
            "image/png": "[encoded data removed]"
          },
          "metadata": {
            "needs_background": "light"
          }
        }
      ]
    },
    {
      "cell_type": "code",
      "source": [
        "from sklearn.decomposition import PCA\n",
        "my_pca = PCA(n_components=2)\n",
        "x_embedded= my_pca.fit_transform(df)\n"
      ],
      "metadata": {
        "id": "1Bcj5HvBlKML"
      },
      "execution_count": null,
      "outputs": []
    },
    {
      "cell_type": "code",
      "source": [
        "import matplotlib.pyplot as plt\n",
        "plt.scatter(x_embedded[:,0], x_embedded[:,1], c=kmeans.labels_)\n",
        "plt.show()"
      ],
      "metadata": {
        "colab": {
          "base_uri": "https://localhost:8080/",
          "height": 265
        },
        "id": "hDgY0F9alKqb",
        "outputId": "b6d9eec5-8446-49b0-baaf-6d59361081ac"
      },
      "execution_count": null,
      "outputs": [
        {
          "output_type": "display_data",
          "data": {
            "text/plain": [
              "<Figure size 432x288 with 1 Axes>"
            ],
            "image/png": "[encoded data removed]"
          },
          "metadata": {
            "needs_background": "light"
          }
        }
      ]
    }
  ]
}